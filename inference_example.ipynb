{
 "cells": [
  {
   "cell_type": "markdown",
   "id": "bb5ff5e1",
   "metadata": {},
   "source": [
    "<b> Inference on a random subset of the dataset (10 images randomly chosen for each class)"
   ]
  },
  {
   "cell_type": "code",
   "execution_count": 1,
   "id": "ef546aca",
   "metadata": {},
   "outputs": [],
   "source": [
    "import os\n",
    "import cv2\n",
    "import numpy as np\n",
    "from tensorflow.keras import models"
   ]
  },
  {
   "cell_type": "markdown",
   "id": "cf6ba45c",
   "metadata": {},
   "source": [
    "<b> Load the binary and the three class model"
   ]
  },
  {
   "cell_type": "code",
   "execution_count": 2,
   "id": "66c13cc6",
   "metadata": {},
   "outputs": [],
   "source": [
    "binary_model = models.load_model('models/binary_class_best_model.h5')\n",
    "three_class_model = models.load_model('models/3_class_best_model.h5')"
   ]
  },
  {
   "cell_type": "code",
   "execution_count": 3,
   "id": "a287ea09",
   "metadata": {},
   "outputs": [],
   "source": [
    "binary = ['covid', 'normal']\n",
    "three_class = ['covid', 'normal', 'pneumonia']"
   ]
  },
  {
   "cell_type": "markdown",
   "id": "c71e0d67",
   "metadata": {},
   "source": [
    "<b> Load images for each class"
   ]
  },
  {
   "cell_type": "code",
   "execution_count": 4,
   "id": "9addb655",
   "metadata": {},
   "outputs": [],
   "source": [
    "def load_imgs(folder,imgs):\n",
    "    filenames = os.listdir(folder)\n",
    "    for filename in filenames:\n",
    "        img = cv2.imread(os.path.join(folder,filename))\n",
    "        if img is not None:\n",
    "            img_torgb = cv2.cvtColor(img, cv2.COLOR_BGR2RGB)\n",
    "            imgs.append(img_torgb)\n",
    "        else:\n",
    "            pass\n",
    "    return imgs"
   ]
  },
  {
   "cell_type": "code",
   "execution_count": 5,
   "id": "5b54ef0e",
   "metadata": {},
   "outputs": [],
   "source": [
    "covid_folder = f'subset_dataset/COVID_MASKED/'\n",
    "covid_imgs = []\n",
    "covid_imgs = load_imgs(covid_folder,covid_imgs)\n",
    "covid_imgs = np.array(covid_imgs)"
   ]
  },
  {
   "cell_type": "code",
   "execution_count": 6,
   "id": "820e6964",
   "metadata": {},
   "outputs": [],
   "source": [
    "pneumonia_folder = f'subset_dataset/PNEUMONIA_MASKED/'\n",
    "pneumonia_imgs = []\n",
    "pneumonia_imgs = load_imgs(pneumonia_folder,pneumonia_imgs)\n",
    "pneumonia_imgs = np.array(pneumonia_imgs)"
   ]
  },
  {
   "cell_type": "code",
   "execution_count": 7,
   "id": "014b4c59",
   "metadata": {},
   "outputs": [],
   "source": [
    "normal_folder = f'subset_dataset/NORMAL_MASKED/'\n",
    "normal_imgs = []\n",
    "normal_imgs = load_imgs(normal_folder,normal_imgs)\n",
    "normal_imgs = np.array(normal_imgs)"
   ]
  },
  {
   "cell_type": "markdown",
   "id": "0f99f7d1",
   "metadata": {},
   "source": [
    "<b> Inference"
   ]
  },
  {
   "cell_type": "code",
   "execution_count": 8,
   "id": "7884aa31",
   "metadata": {},
   "outputs": [
    {
     "name": "stdout",
     "output_type": "stream",
     "text": [
      "*************** Predictions for COVID-19 ***************\n"
     ]
    },
    {
     "data": {
      "text/plain": [
       "['covid',\n",
       " 'covid',\n",
       " 'covid',\n",
       " 'covid',\n",
       " 'covid',\n",
       " 'covid',\n",
       " 'covid',\n",
       " 'covid',\n",
       " 'covid',\n",
       " 'covid']"
      ]
     },
     "execution_count": 8,
     "metadata": {},
     "output_type": "execute_result"
    }
   ],
   "source": [
    "print(f\"{15*'*'} Predictions for COVID-19 {15*'*'}\")\n",
    "y_pred = binary_model.predict(covid_imgs)\n",
    "y_pred = np.argmax(y_pred,axis=1)\n",
    "y_pred = [binary[i] for i in y_pred]\n",
    "y_pred"
   ]
  },
  {
   "cell_type": "code",
   "execution_count": 9,
   "id": "0a1c3808",
   "metadata": {
    "scrolled": false
   },
   "outputs": [
    {
     "name": "stdout",
     "output_type": "stream",
     "text": [
      "*************** Predictions for Normal ***************\n"
     ]
    },
    {
     "data": {
      "text/plain": [
       "['normal',\n",
       " 'normal',\n",
       " 'normal',\n",
       " 'normal',\n",
       " 'normal',\n",
       " 'normal',\n",
       " 'normal',\n",
       " 'normal',\n",
       " 'normal',\n",
       " 'normal']"
      ]
     },
     "execution_count": 9,
     "metadata": {},
     "output_type": "execute_result"
    }
   ],
   "source": [
    "print(f\"{15*'*'} Predictions for Normal {15*'*'}\")\n",
    "y_pred = binary_model.predict(normal_imgs)\n",
    "y_pred = np.argmax(y_pred,axis=1)\n",
    "y_pred = [binary[i] for i in y_pred]\n",
    "y_pred"
   ]
  },
  {
   "cell_type": "code",
   "execution_count": 10,
   "id": "110ba8d7",
   "metadata": {},
   "outputs": [
    {
     "name": "stdout",
     "output_type": "stream",
     "text": [
      "*************** Predictions for Pneumonia ***************\n"
     ]
    },
    {
     "data": {
      "text/plain": [
       "['pneumonia',\n",
       " 'pneumonia',\n",
       " 'pneumonia',\n",
       " 'pneumonia',\n",
       " 'pneumonia',\n",
       " 'pneumonia',\n",
       " 'pneumonia',\n",
       " 'pneumonia',\n",
       " 'pneumonia',\n",
       " 'pneumonia']"
      ]
     },
     "execution_count": 10,
     "metadata": {},
     "output_type": "execute_result"
    }
   ],
   "source": [
    "print(f\"{15*'*'} Predictions for Pneumonia {15*'*'}\")\n",
    "y_pred = three_class_model.predict(pneumonia_imgs)\n",
    "y_pred = np.argmax(y_pred,axis=1)\n",
    "y_pred = [three_class[i] for i in y_pred]\n",
    "y_pred"
   ]
  }
 ],
 "metadata": {
  "kernelspec": {
   "display_name": "covid",
   "language": "python",
   "name": "covid"
  },
  "language_info": {
   "codemirror_mode": {
    "name": "ipython",
    "version": 3
   },
   "file_extension": ".py",
   "mimetype": "text/x-python",
   "name": "python",
   "nbconvert_exporter": "python",
   "pygments_lexer": "ipython3",
   "version": "3.8.8"
  }
 },
 "nbformat": 4,
 "nbformat_minor": 5
}
